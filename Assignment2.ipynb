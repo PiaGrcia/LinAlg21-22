{
  "nbformat": 4,
  "nbformat_minor": 0,
  "metadata": {
    "colab": {
      "name": "Assignment2.ipynb",
      "provenance": [],
      "collapsed_sections": [
        "_Nk7Hitk6rmu"
      ],
      "authorship_tag": "ABX9TyNlLUauSD1Q5hRiPKkj2isD",
      "include_colab_link": true
    },
    "kernelspec": {
      "name": "python3",
      "display_name": "Python 3"
    },
    "language_info": {
      "name": "python"
    }
  },
  "cells": [
    {
      "cell_type": "markdown",
      "metadata": {
        "id": "view-in-github",
        "colab_type": "text"
      },
      "source": [
        "<a href=\"https://colab.research.google.com/github/PiaGrcia/LinAlg21-22/blob/main/Assignment2.ipynb\" target=\"_parent\"><img src=\"https://colab.research.google.com/assets/colab-badge.svg\" alt=\"Open In Colab\"/></a>"
      ]
    },
    {
      "cell_type": "markdown",
      "metadata": {
        "id": "WW8aECgzoTLE"
      },
      "source": [
        "### Linear Algebra\n",
        "#### Laboratory Activity No. 1"
      ]
    },
    {
      "cell_type": "markdown",
      "metadata": {
        "id": "_fS87nyVosCx"
      },
      "source": [
        "# **Python Fundamentals**"
      ]
    },
    {
      "cell_type": "markdown",
      "metadata": {
        "id": "62C6BV1pnAlN"
      },
      "source": [
        "![image](data:image/jpeg;base64,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)\n"
      ]
    },
    {
      "cell_type": "markdown",
      "metadata": {
        "id": "8ITba4KZo2Xa"
      },
      "source": [
        "#### Submitted by:\n",
        "Garcia, Ma. Sopia Alyanna D."
      ]
    },
    {
      "cell_type": "markdown",
      "metadata": {
        "id": "5xVrlLE7o8NO"
      },
      "source": [
        "#### Instructor:\n",
        "Engr. Eugene H. Embalzado Jr."
      ]
    },
    {
      "cell_type": "markdown",
      "metadata": {
        "id": "7Oy9-wJmpDY9"
      },
      "source": [
        "September 15, 2021"
      ]
    },
    {
      "cell_type": "markdown",
      "metadata": {
        "id": "-gGXv0g7pN-b"
      },
      "source": [
        "## I. Objectives:\n",
        "- This laboratory activity aims to implement the principles and techniques of using Python Language, and how it differ from other form of programming language."
      ]
    },
    {
      "cell_type": "markdown",
      "metadata": {
        "id": "M813c_6-pVvU"
      },
      "source": [
        "## II. Methods:\n",
        "- The practices of the activity are different fundamentals of python programming. It is to enhance skills and knowledge on how to program and run python language using google colaboratory.\n",
        "- This laboratory activity shows the different ways on how to input and what data types are used to come up with an output.\n",
        "- This activity was provided with different techniques and short-cut keys to run the program.\n",
        "- There are operations and iterations used to execute the output.\n"
      ]
    },
    {
      "cell_type": "markdown",
      "metadata": {
        "id": "sZX0gx4KtuGO"
      },
      "source": [
        "## III. Results"
      ]
    },
    {
      "cell_type": "markdown",
      "metadata": {
        "id": "gD8P76iu1lAA"
      },
      "source": [
        "#Welcome to Python Fundamentals\n",
        "In this module, we are going to establish our skills in Python programming. In this notebook we are going to cover:\n",
        "\n",
        "\n",
        "*   Variables and Data Types\n",
        "*   Operations\n",
        "*   Input and Output Operations\n",
        "*   Logic Control\n",
        "*   Iterables\n",
        "*   Functions\n",
        "\n",
        "\n",
        "\n",
        "\n",
        "\n"
      ]
    },
    {
      "cell_type": "markdown",
      "metadata": {
        "id": "C2Xm503-2ocm"
      },
      "source": [
        "## Variables and Data Types"
      ]
    },
    {
      "cell_type": "markdown",
      "metadata": {
        "id": "_Nk7Hitk6rmu"
      },
      "source": [
        "The basic data types in Python includes **integers, strings and floating point numbers**.\n",
        "In this part of the cell, shows the differents variables and data types used; and how they differ from using other data types."
      ]
    },
    {
      "cell_type": "code",
      "metadata": {
        "id": "YAsUYry91hoj"
      },
      "source": [
        "x = 1\n",
        "a, b = 3, -2"
      ],
      "execution_count": null,
      "outputs": []
    },
    {
      "cell_type": "code",
      "metadata": {
        "id": "QJb8fgve3ftP"
      },
      "source": [
        "type(x)"
      ],
      "execution_count": null,
      "outputs": []
    },
    {
      "cell_type": "code",
      "metadata": {
        "id": "df8kw4Vp3ouV"
      },
      "source": [
        "y = 3.0\n",
        "type(y)"
      ],
      "execution_count": null,
      "outputs": []
    },
    {
      "cell_type": "code",
      "metadata": {
        "id": "aaGBj0OH4ErX"
      },
      "source": [
        "x = float(x)\n",
        "type(x)"
      ],
      "execution_count": null,
      "outputs": []
    },
    {
      "cell_type": "code",
      "metadata": {
        "id": "GmF5Adlw4On9"
      },
      "source": [
        "s, t, u = \"1\", '3', 'three'\n",
        "type(u)"
      ],
      "execution_count": null,
      "outputs": []
    },
    {
      "cell_type": "markdown",
      "metadata": {
        "id": "BA03urRD4ou3"
      },
      "source": [
        "## Operations"
      ]
    },
    {
      "cell_type": "markdown",
      "metadata": {
        "id": "7L8RQcrOF2dD"
      },
      "source": [
        "- Arithmetic Operations\n",
        "- Assignment Operations\n",
        "- Comparators Operations\n",
        "- Logical Operations"
      ]
    },
    {
      "cell_type": "markdown",
      "metadata": {
        "id": "1522_kET4usl"
      },
      "source": [
        "### Arithmetic "
      ]
    },
    {
      "cell_type": "markdown",
      "metadata": {
        "id": "KK_4qoc3n84u"
      },
      "source": [
        "These consists of operands and operators combined to perform mathematical operations."
      ]
    },
    {
      "cell_type": "code",
      "metadata": {
        "id": "jXlI9wZI40vE"
      },
      "source": [
        "w, x, y, z = 4.0, -3.0, 2, -32"
      ],
      "execution_count": null,
      "outputs": []
    },
    {
      "cell_type": "markdown",
      "metadata": {
        "id": "3je855Q4dyT9"
      },
      "source": [
        "**Addition** - it adds two values."
      ]
    },
    {
      "cell_type": "code",
      "metadata": {
        "colab": {
          "base_uri": "https://localhost:8080/"
        },
        "id": "hLeGGEXz5NlM",
        "outputId": "da005127-652c-4543-c02c-d2cb760c8266"
      },
      "source": [
        "### Addition \n",
        "S = w + x "
      ],
      "execution_count": null,
      "outputs": [
        {
          "output_type": "execute_result",
          "data": {
            "text/plain": [
              "1.0"
            ]
          },
          "metadata": {},
          "execution_count": 19
        }
      ]
    },
    {
      "cell_type": "markdown",
      "metadata": {
        "id": "xsV6YhGUduzL"
      },
      "source": [
        "**Subtraction** - it subtracts the second value to the first value."
      ]
    },
    {
      "cell_type": "code",
      "metadata": {
        "colab": {
          "base_uri": "https://localhost:8080/"
        },
        "id": "4IapBPwb5c8O",
        "outputId": "7cc97932-224d-4fc8-ec38-a759c347d21a"
      },
      "source": [
        "### Subtraction \n",
        "D = y - z"
      ],
      "execution_count": null,
      "outputs": [
        {
          "output_type": "execute_result",
          "data": {
            "text/plain": [
              "33"
            ]
          },
          "metadata": {},
          "execution_count": 20
        }
      ]
    },
    {
      "cell_type": "markdown",
      "metadata": {
        "id": "zNelSH3Cdrds"
      },
      "source": [
        "**Multiplication** - it finds the product of 2 values."
      ]
    },
    {
      "cell_type": "code",
      "metadata": {
        "colab": {
          "base_uri": "https://localhost:8080/"
        },
        "id": "DvJCfSBd5mTU",
        "outputId": "5dfcb9c2-4f83-489a-c64e-f094b924e816"
      },
      "source": [
        "### Multiplication \n",
        "P = w * z"
      ],
      "execution_count": null,
      "outputs": [
        {
          "output_type": "execute_result",
          "data": {
            "text/plain": [
              "-128.0"
            ]
          },
          "metadata": {},
          "execution_count": 21
        }
      ]
    },
    {
      "cell_type": "markdown",
      "metadata": {
        "id": "zrI-tgDtdmx2"
      },
      "source": [
        "**Division** - it finds the quotient when first value is divided by the second."
      ]
    },
    {
      "cell_type": "code",
      "metadata": {
        "colab": {
          "base_uri": "https://localhost:8080/"
        },
        "id": "1TDNMIkx5v43",
        "outputId": "f30df924-9b6e-462e-8879-d34252ff204e"
      },
      "source": [
        "### Division\n",
        "Q = y/x"
      ],
      "execution_count": null,
      "outputs": [
        {
          "output_type": "execute_result",
          "data": {
            "text/plain": [
              "-0.3333333333333333"
            ]
          },
          "metadata": {},
          "execution_count": 22
        }
      ]
    },
    {
      "cell_type": "markdown",
      "metadata": {
        "id": "a31RaepfdiZn"
      },
      "source": [
        "**Floor Division** - it finds the floor of the quotient when first value is divided by the second."
      ]
    },
    {
      "cell_type": "code",
      "metadata": {
        "colab": {
          "base_uri": "https://localhost:8080/"
        },
        "id": "3vVkMdWS6U-3",
        "outputId": "51408ef6-5830-4906-98b9-b6e764d1e833"
      },
      "source": [
        "### Floor Division \n",
        "Qf = w//x\n",
        "Qf"
      ],
      "execution_count": null,
      "outputs": [
        {
          "output_type": "execute_result",
          "data": {
            "text/plain": [
              "-2.0"
            ]
          },
          "metadata": {},
          "execution_count": 24
        }
      ]
    },
    {
      "cell_type": "markdown",
      "metadata": {
        "id": "oJH-wT9pdd2d"
      },
      "source": [
        "**Exponentiation** - it raises the first value to power of second."
      ]
    },
    {
      "cell_type": "code",
      "metadata": {
        "colab": {
          "base_uri": "https://localhost:8080/"
        },
        "id": "mWKJDR-06YuL",
        "outputId": "7ee4d771-b90d-4b36-ff5c-e79014ac8c9e"
      },
      "source": [
        "### Exponentiation \n",
        "E = w**w\n",
        "E"
      ],
      "execution_count": null,
      "outputs": [
        {
          "output_type": "execute_result",
          "data": {
            "text/plain": [
              "256.0"
            ]
          },
          "metadata": {},
          "execution_count": 26
        }
      ]
    },
    {
      "cell_type": "markdown",
      "metadata": {
        "id": "svy-YsF4dV-0"
      },
      "source": [
        "**Modulo** - it finds the remainder when first value is divided by the second."
      ]
    },
    {
      "cell_type": "code",
      "metadata": {
        "colab": {
          "base_uri": "https://localhost:8080/"
        },
        "id": "RDEbFaj77W3S",
        "outputId": "370e4d74-7aca-44a7-c8d8-b1aafbe6a9c4"
      },
      "source": [
        "### Modulo \n",
        "mod = z%x\n",
        "mod"
      ],
      "execution_count": null,
      "outputs": [
        {
          "output_type": "execute_result",
          "data": {
            "text/plain": [
              "-2.0"
            ]
          },
          "metadata": {},
          "execution_count": 27
        }
      ]
    },
    {
      "cell_type": "markdown",
      "metadata": {
        "id": "Pk-RgULV7wyF"
      },
      "source": [
        "### Assignment"
      ]
    },
    {
      "cell_type": "code",
      "metadata": {
        "id": "sT_bm8am7vew"
      },
      "source": [
        "A, B, C, D = 0, 100, 2, 1"
      ],
      "execution_count": null,
      "outputs": []
    },
    {
      "cell_type": "markdown",
      "metadata": {
        "id": "nB9HLxocKQQB"
      },
      "source": [
        "**Addition Assignment Operator**\n",
        "\n",
        "It lets you add two values and assign the resultant value to a variable"
      ]
    },
    {
      "cell_type": "code",
      "metadata": {
        "colab": {
          "base_uri": "https://localhost:8080/"
        },
        "id": "XfdK46lL78Hd",
        "outputId": "9484fc45-3e6b-451d-b1bd-53888aa7a455"
      },
      "source": [
        "A += w\n",
        "A"
      ],
      "execution_count": null,
      "outputs": [
        {
          "output_type": "execute_result",
          "data": {
            "text/plain": [
              "4.0"
            ]
          },
          "metadata": {},
          "execution_count": 11
        }
      ]
    },
    {
      "cell_type": "markdown",
      "metadata": {
        "id": "dvaDOUQ3Kc20"
      },
      "source": [
        "**Subtraction Assignment Operator**\n",
        "\n",
        "It lets you subtract two values and assign the resultant value to a variable."
      ]
    },
    {
      "cell_type": "code",
      "metadata": {
        "colab": {
          "base_uri": "https://localhost:8080/"
        },
        "id": "4GZkupVb8PiK",
        "outputId": "a773f7b3-bf34-4bee-c900-adca87d65b87"
      },
      "source": [
        "B -= x\n",
        "B"
      ],
      "execution_count": null,
      "outputs": [
        {
          "output_type": "execute_result",
          "data": {
            "text/plain": [
              "103.0"
            ]
          },
          "metadata": {},
          "execution_count": 12
        }
      ]
    },
    {
      "cell_type": "markdown",
      "metadata": {
        "id": "GD7vXJvxKuPy"
      },
      "source": [
        "**Multiplication Assignment Operator**\n",
        "\n",
        "It lets you multiply two values and assign the resultant value to a variable."
      ]
    },
    {
      "cell_type": "code",
      "metadata": {
        "colab": {
          "base_uri": "https://localhost:8080/"
        },
        "id": "djgwmOgJ8htf",
        "outputId": "0072f309-712d-499d-a69f-967143168a75"
      },
      "source": [
        "C *= w\n",
        "C"
      ],
      "execution_count": null,
      "outputs": [
        {
          "output_type": "execute_result",
          "data": {
            "text/plain": [
              "2048.0"
            ]
          },
          "metadata": {},
          "execution_count": 40
        }
      ]
    },
    {
      "cell_type": "markdown",
      "metadata": {
        "id": "F8EQvGJcK4rZ"
      },
      "source": [
        "**Division Assignment Operator** \n",
        "\n",
        "It lets you divide two values and assign the resultant value to a variable."
      ]
    },
    {
      "cell_type": "code",
      "metadata": {
        "colab": {
          "base_uri": "https://localhost:8080/"
        },
        "id": "CBVBuOK88Pfo",
        "outputId": "478929d5-6784-4ae9-8b8c-74033acb7fe9"
      },
      "source": [
        "D /= x\n",
        "D"
      ],
      "execution_count": null,
      "outputs": [
        {
          "output_type": "execute_result",
          "data": {
            "text/plain": [
              "-0.037037037037037035"
            ]
          },
          "metadata": {},
          "execution_count": 43
        }
      ]
    },
    {
      "cell_type": "markdown",
      "metadata": {
        "id": "QxJbqrpJK9jS"
      },
      "source": [
        "**Exponential Assignment Operator**\n",
        "\n",
        "It lets you raise power of two values and assign the resultant value to a variable."
      ]
    },
    {
      "cell_type": "code",
      "metadata": {
        "colab": {
          "base_uri": "https://localhost:8080/"
        },
        "id": "Kud31eFa9lmh",
        "outputId": "6ed4f831-0284-4bd4-f2d6-68c2f57ca6fa"
      },
      "source": [
        "E **= y\n",
        "E"
      ],
      "execution_count": null,
      "outputs": [
        {
          "output_type": "execute_result",
          "data": {
            "text/plain": [
              "65536.0"
            ]
          },
          "metadata": {},
          "execution_count": 48
        }
      ]
    },
    {
      "cell_type": "markdown",
      "metadata": {
        "id": "htkRn2Yv-SRd"
      },
      "source": [
        "### Comparators"
      ]
    },
    {
      "cell_type": "code",
      "metadata": {
        "id": "WM4F-7AF-VsS"
      },
      "source": [
        "size_1, size_2, size_3 = 1, 2.0, \"1\"\n",
        "true_size = 1.0"
      ],
      "execution_count": null,
      "outputs": []
    },
    {
      "cell_type": "markdown",
      "metadata": {
        "id": "wdgLil68PBJi"
      },
      "source": [
        "**Equal to Operator (==)**\n",
        " - compares two values and returns True if the left value is equal to the right value; otherwise, False."
      ]
    },
    {
      "cell_type": "code",
      "metadata": {
        "colab": {
          "base_uri": "https://localhost:8080/"
        },
        "id": "E1f1HyLd-hVF",
        "outputId": "4b6a70da-46f3-4109-83b0-835499b326fe"
      },
      "source": [
        "## Equality\n",
        "size_1 == true_size"
      ],
      "execution_count": null,
      "outputs": [
        {
          "output_type": "execute_result",
          "data": {
            "text/plain": [
              "True"
            ]
          },
          "metadata": {},
          "execution_count": 51
        }
      ]
    },
    {
      "cell_type": "markdown",
      "metadata": {
        "id": "ya2SDHcGPQHa"
      },
      "source": [
        "**Not Equal to Operator (!=)**\n",
        " - compares two values and returns True if the left value isn't equal to the right value; otherwise, False."
      ]
    },
    {
      "cell_type": "code",
      "metadata": {
        "colab": {
          "base_uri": "https://localhost:8080/"
        },
        "id": "m1hVuMDd-39d",
        "outputId": "5d43df51-bcaa-4c42-8657-b5ae0341a0f5"
      },
      "source": [
        "## Non-Equality\n",
        "size_2 != true_size"
      ],
      "execution_count": null,
      "outputs": [
        {
          "output_type": "execute_result",
          "data": {
            "text/plain": [
              "True"
            ]
          },
          "metadata": {},
          "execution_count": 52
        }
      ]
    },
    {
      "cell_type": "markdown",
      "metadata": {
        "id": "mlSZZOzGPg3u"
      },
      "source": [
        "**Greater than Operator (>)**\n",
        " - compares two values and returns True if the left value is greater than the right value; otherwise, False."
      ]
    },
    {
      "cell_type": "markdown",
      "metadata": {
        "id": "lx9Al22qP3d-"
      },
      "source": [
        "**Less than Operator (<)**\n",
        " - compares two values and returns True if the values on the left is less than the value on the right; otherwise, False."
      ]
    },
    {
      "cell_type": "markdown",
      "metadata": {
        "id": "NCm8y27AQIsz"
      },
      "source": [
        "**Greater than or Equal to Operator (>=)**\n",
        " - compares two values and returns True if the left value is greater than or equal to the right value; otherwise, False."
      ]
    },
    {
      "cell_type": "markdown",
      "metadata": {
        "id": "67OF4kPDQ8dr"
      },
      "source": [
        "**Less than or Equal to Operator (<=)**\n",
        " - compares two values and returns True if the left value is less than or equal to the right value; otherwise, False."
      ]
    },
    {
      "cell_type": "code",
      "metadata": {
        "colab": {
          "base_uri": "https://localhost:8080/"
        },
        "id": "wdmKZWH3_Fy_",
        "outputId": "edcc2cc7-1216-4f86-8b47-b3dfd79f233a"
      },
      "source": [
        "## Inequality\n",
        "s1 = size_1 > size_2\n",
        "s2 = size_1 < size_2/2\n",
        "s3 = true_size >= size_1\n",
        "s4 = size_2 <= true_size"
      ],
      "execution_count": null,
      "outputs": [
        {
          "output_type": "execute_result",
          "data": {
            "text/plain": [
              "False"
            ]
          },
          "metadata": {},
          "execution_count": 60
        }
      ]
    },
    {
      "cell_type": "markdown",
      "metadata": {
        "id": "J7xxIM6u_4CV"
      },
      "source": [
        "### Logical"
      ]
    },
    {
      "cell_type": "markdown",
      "metadata": {
        "id": "ObgdG_PIR0vm"
      },
      "source": [
        "Logical Operators are used for Conditional Statements which are true or false. \n",
        "\n",
        " - For **AND** operator - it returns True if both the right and left operand are True.\n",
        " - For **OR** operator - it returns True if either of the right and left operand is true.\n",
        " - For **NOT** operator - return True if operand is false"
      ]
    },
    {
      "cell_type": "code",
      "metadata": {
        "id": "dV46qY2d_6eP"
      },
      "source": [
        "size_1 == true_size\n"
      ],
      "execution_count": null,
      "outputs": []
    },
    {
      "cell_type": "code",
      "metadata": {
        "id": "GM2DDht_AFhN"
      },
      "source": [
        "size_1 is true_size"
      ],
      "execution_count": null,
      "outputs": []
    },
    {
      "cell_type": "code",
      "metadata": {
        "colab": {
          "base_uri": "https://localhost:8080/"
        },
        "id": "DfrijZINAdVx",
        "outputId": "4e5cd443-7c0b-44b4-b866-05bd98c3b2b4"
      },
      "source": [
        "size_1 is not true_size"
      ],
      "execution_count": null,
      "outputs": [
        {
          "output_type": "execute_result",
          "data": {
            "text/plain": [
              "True"
            ]
          },
          "metadata": {},
          "execution_count": 64
        }
      ]
    },
    {
      "cell_type": "code",
      "metadata": {
        "colab": {
          "base_uri": "https://localhost:8080/"
        },
        "id": "ZILh1w8BAi3d",
        "outputId": "e040a8ad-215c-485a-b02d-e916bd2e92eb"
      },
      "source": [
        "P, Q = True, False\n",
        "conj = P and Q\n",
        "conj"
      ],
      "execution_count": null,
      "outputs": [
        {
          "output_type": "execute_result",
          "data": {
            "text/plain": [
              "False"
            ]
          },
          "metadata": {},
          "execution_count": 66
        }
      ]
    },
    {
      "cell_type": "code",
      "metadata": {
        "colab": {
          "base_uri": "https://localhost:8080/"
        },
        "id": "yHRw9oCxA6Yz",
        "outputId": "d912a100-dfa1-4172-ed39-cc5216c51668"
      },
      "source": [
        "disj = P or Q\n",
        "disj"
      ],
      "execution_count": null,
      "outputs": [
        {
          "output_type": "execute_result",
          "data": {
            "text/plain": [
              "True"
            ]
          },
          "metadata": {},
          "execution_count": 67
        }
      ]
    },
    {
      "cell_type": "code",
      "metadata": {
        "id": "rgK0t1jqBJqT"
      },
      "source": [
        "nand = not(P and Q)\n",
        "nand"
      ],
      "execution_count": null,
      "outputs": []
    },
    {
      "cell_type": "code",
      "metadata": {
        "colab": {
          "base_uri": "https://localhost:8080/"
        },
        "id": "bHhxvMp8BWK5",
        "outputId": "a3aaeda8-0066-4003-971a-4a9f61ebcabb"
      },
      "source": [
        "xor = (not P and Q) or (P and not Q)\n",
        "xor"
      ],
      "execution_count": null,
      "outputs": [
        {
          "output_type": "execute_result",
          "data": {
            "text/plain": [
              "True"
            ]
          },
          "metadata": {},
          "execution_count": 69
        }
      ]
    },
    {
      "cell_type": "markdown",
      "metadata": {
        "id": "OtoNDJiUCALI"
      },
      "source": [
        "### Input and Output"
      ]
    },
    {
      "cell_type": "markdown",
      "metadata": {
        "id": "QMmJ0gzrWLiV"
      },
      "source": [
        "**Input** - enter any data sent to the computer from the user through keyboard.\n",
        "\n",
        "**Output** - the information produced by the computer to the user."
      ]
    },
    {
      "cell_type": "code",
      "metadata": {
        "colab": {
          "base_uri": "https://localhost:8080/"
        },
        "id": "UyVf8MgjCCag",
        "outputId": "d6d0e006-36a5-44cf-cb67-aa834f24947c"
      },
      "source": [
        "print(\"Hello World!\")"
      ],
      "execution_count": null,
      "outputs": [
        {
          "output_type": "stream",
          "name": "stdout",
          "text": [
            "Hello World!\n"
          ]
        }
      ]
    },
    {
      "cell_type": "code",
      "metadata": {
        "id": "ut-v3dilCHZ3"
      },
      "source": [
        "cnt = 14000"
      ],
      "execution_count": null,
      "outputs": []
    },
    {
      "cell_type": "code",
      "metadata": {
        "colab": {
          "base_uri": "https://localhost:8080/"
        },
        "id": "sOmFPo8SCJ0c",
        "outputId": "c64b7f42-b40d-4b55-ed3e-0f6f63d1489b"
      },
      "source": [
        "string = \"Hello World!\"\n",
        "print(string, \", Current Covid count is:\", cnt)\n",
        "cnt += 1"
      ],
      "execution_count": null,
      "outputs": [
        {
          "output_type": "stream",
          "name": "stdout",
          "text": [
            "Hello World! , Current Covid count is: 14000\n"
          ]
        }
      ]
    },
    {
      "cell_type": "code",
      "metadata": {
        "colab": {
          "base_uri": "https://localhost:8080/"
        },
        "id": "vEbEEMXFC-FT",
        "outputId": "2600f742-8f90-4071-9179-f5fc7f177ad2"
      },
      "source": [
        "print(f\"{string}, current count is: {cnt}\")"
      ],
      "execution_count": null,
      "outputs": [
        {
          "output_type": "stream",
          "name": "stdout",
          "text": [
            "Hello World!, current count is: 14001\n"
          ]
        }
      ]
    },
    {
      "cell_type": "code",
      "metadata": {
        "colab": {
          "base_uri": "https://localhost:8080/"
        },
        "id": "dkzSqCXLDwzO",
        "outputId": "5faa8813-0700-4855-9d5e-f1c1fb329f22"
      },
      "source": [
        "sem_grade = 86.25\n",
        "name = \"\"\n",
        "print (\"Hello {}, your semestral grade is: {}\". format(name, sem_grade))"
      ],
      "execution_count": null,
      "outputs": [
        {
          "output_type": "stream",
          "name": "stdout",
          "text": [
            "Hello , your semestral grade is: 86.25\n"
          ]
        }
      ]
    },
    {
      "cell_type": "code",
      "metadata": {
        "colab": {
          "base_uri": "https://localhost:8080/"
        },
        "id": "sApMMkEuDOMl",
        "outputId": "deb7cac4-aadb-49ae-e21d-3d4ec8c7e668"
      },
      "source": [
        "pg, mg, fg = 98, 85, 65\n",
        "print(\"The weights of your semestral grades are:\\\n",
        "\\n\\t {} for Prelims\\\n",
        "\\n\\t {} for Midterms\\\n",
        "\\n\\t {} for Finals.\" . format(pg, mg, fg))"
      ],
      "execution_count": null,
      "outputs": [
        {
          "output_type": "stream",
          "name": "stdout",
          "text": [
            "The weights of your semestral grades are:\n",
            "\t 98 for Prelims\n",
            "\t 85 forMidterms\n",
            "\t 65 for Finals.\n"
          ]
        }
      ]
    },
    {
      "cell_type": "code",
      "metadata": {
        "id": "sHRP1BoIF9dY"
      },
      "source": [
        "e = input(\"Enter a number: \")"
      ],
      "execution_count": null,
      "outputs": []
    },
    {
      "cell_type": "code",
      "metadata": {
        "colab": {
          "base_uri": "https://localhost:8080/"
        },
        "id": "EJTA-ni3GBa7",
        "outputId": "44242707-02e9-479a-c87a-ee1f7e8c9451"
      },
      "source": [
        "name = input(\"Enter your name: \")\n",
        "pg = input(\"Enter prelim grade: \")\n",
        "mg = input(\"Enter midterm grade: \")\n",
        "fg = input(\"Enter final grade: \")\n",
        "sem_grade = None\n",
        "print(\"Hello {}, your semestral grade is: {}\". format(name, sem_grade))\n"
      ],
      "execution_count": null,
      "outputs": [
        {
          "output_type": "stream",
          "name": "stdout",
          "text": [
            "Enter your name: Pia\n",
            "Enter prelim grade: 70\n",
            "Enter midterm grade: 80\n",
            "Enter final grade: 78\n",
            "Hello Pia, your semestral grade is: None\n"
          ]
        }
      ]
    },
    {
      "cell_type": "markdown",
      "metadata": {
        "id": "oZTq9G5LLKrh"
      },
      "source": [
        "### Looping Statements"
      ]
    },
    {
      "cell_type": "markdown",
      "metadata": {
        "id": "ihhVfBxzYejg"
      },
      "source": [
        "Looping statement helps execute a block of code repeatedly."
      ]
    },
    {
      "cell_type": "markdown",
      "metadata": {
        "id": "y5ylkxpHLVVN"
      },
      "source": [
        "## While"
      ]
    },
    {
      "cell_type": "markdown",
      "metadata": {
        "id": "1KLQhWMoX_DJ"
      },
      "source": [
        "It is one of the *most intuitive to understand*. It is a programming concept that when it's implemented, it executes a code over and over again **while** still *holds the condition true*.\n",
        "\n",
        "*   List item\n",
        "*   List item\n",
        "\n"
      ]
    },
    {
      "cell_type": "code",
      "metadata": {
        "colab": {
          "base_uri": "https://localhost:8080/"
        },
        "id": "M8LCqF_oLaO9",
        "outputId": "9c6fbe45-b6d4-41f6-feea-2e27d1ab4ff6"
      },
      "source": [
        "## while loops\n",
        "i, j = 0, 10\n",
        "while(i<=j):\n",
        "  print(f\"{i}\\t|\\t{j}\")\n",
        "  i += 1"
      ],
      "execution_count": null,
      "outputs": [
        {
          "output_type": "stream",
          "name": "stdout",
          "text": [
            "0\t|\t10\n",
            "1\t|\t10\n",
            "2\t|\t10\n",
            "3\t|\t10\n",
            "4\t|\t10\n",
            "5\t|\t10\n",
            "6\t|\t10\n",
            "7\t|\t10\n",
            "8\t|\t10\n",
            "9\t|\t10\n",
            "10\t|\t10\n"
          ]
        }
      ]
    },
    {
      "cell_type": "markdown",
      "metadata": {
        "id": "khHjdLCtL7eq"
      },
      "source": [
        "## For"
      ]
    },
    {
      "cell_type": "markdown",
      "metadata": {
        "id": "vpDL6ymdYoYN"
      },
      "source": [
        "It is a programming concept that, when it's implemented, executes a code over and over again **for** a certain number of times."
      ]
    },
    {
      "cell_type": "code",
      "metadata": {
        "id": "FAXgcK29L5yY"
      },
      "source": [
        "# for(int = 0; i<10; i++){\n",
        "#printf(i)\n",
        "#}\n",
        "\n",
        "i=0\n",
        "for i in range(10):\n",
        "  print(i)"
      ],
      "execution_count": null,
      "outputs": []
    },
    {
      "cell_type": "code",
      "metadata": {
        "id": "A6aFb9unMsxw"
      },
      "source": [
        "playlist = [\"Bahay Kubo\", \"Magandang Kanta\", \"Buko\"]\n",
        "print('Now Playing:\\n')\n",
        "for song in playlist: \n",
        "  print(song)"
      ],
      "execution_count": null,
      "outputs": []
    },
    {
      "cell_type": "markdown",
      "metadata": {
        "id": "cAv0kTUmNNhN"
      },
      "source": [
        "### Flow Control"
      ]
    },
    {
      "cell_type": "markdown",
      "metadata": {
        "id": "YTFGpBK0ZNLO"
      },
      "source": [
        "It is the order in which the program's code executes. It is regulated by:\n",
        " - Conditional Statement\n",
        " - Loops\n",
        " - Function Calls"
      ]
    },
    {
      "cell_type": "markdown",
      "metadata": {
        "id": "MOLx0Z-_NUHI"
      },
      "source": [
        "## Condition Statement"
      ]
    },
    {
      "cell_type": "markdown",
      "metadata": {
        "id": "dB4N6xiNZt9h"
      },
      "source": [
        "In python, conditional statement *performs different computations or actions* depending on whether if its a Boolean constraint evaluates to **True or False.**\n",
        "\n",
        "It is represented by **IF statements** in python."
      ]
    },
    {
      "cell_type": "markdown",
      "metadata": {
        "id": "vinYZ0HAZt4D"
      },
      "source": [
        "IF statement in pythons is used for *decision-making operations*. It only runs when the condition given is **true**; otherwise, **false** if the statement *contains else statement*."
      ]
    },
    {
      "cell_type": "markdown",
      "metadata": {
        "id": "r-Q6db2Yk2QB"
      },
      "source": [
        "If-then flowchart:\n",
        "- If the statement is true, it execute the code in **if** block.\n",
        "- If the statement is false, it execute the code in **else** block\n",
        "- And executes the code."
      ]
    },
    {
      "cell_type": "markdown",
      "metadata": {
        "id": "dLiawUVBlSwC"
      },
      "source": [
        "![image](https://cdn.guru99.com/images/2013/04/if_then_flowchart.png)"
      ]
    },
    {
      "cell_type": "code",
      "metadata": {
        "colab": {
          "base_uri": "https://localhost:8080/"
        },
        "id": "GH5hdToYNW-_",
        "outputId": "0d9143c3-9d5c-4f4b-c84c-9b29dfc7025d"
      },
      "source": [
        "num_1, num_2 = 11, 12\n",
        "if(num_1 == num_2):\n",
        "    print(\"HAHA\")\n",
        "elif(num_1 > num_2):\n",
        "    print(\"HOHO\")\n",
        "else:\n",
        "    print(\"HUHU\")"
      ],
      "execution_count": null,
      "outputs": [
        {
          "output_type": "stream",
          "name": "stdout",
          "text": [
            "HUHU\n"
          ]
        }
      ]
    },
    {
      "cell_type": "markdown",
      "metadata": {
        "id": "6FItuh4RN73K"
      },
      "source": [
        "## Functions"
      ]
    },
    {
      "cell_type": "markdown",
      "metadata": {
        "id": "S_DR0Jeda8Ej"
      },
      "source": [
        "In python, function is a *group of related statements* that performs a specific task.\n",
        "\n",
        "There are two types of functions:\n",
        "1. **User-defined functions** - these functions are defined by the user to perform a specific task.\n",
        "2. **Built-in functions** - theses functions are **pre-defined** function in Python."
      ]
    },
    {
      "cell_type": "code",
      "metadata": {
        "id": "ne-_D7fIN_nV"
      },
      "source": [
        "# void DeleteUser (int userid){\n",
        "# delete(userid);\n",
        "#}\n",
        "\n",
        "def delete_user (userid):\n",
        "  print(\"Successfully Deleted User: {}\" . format(userid))"
      ],
      "execution_count": null,
      "outputs": []
    },
    {
      "cell_type": "code",
      "metadata": {
        "colab": {
          "base_uri": "https://localhost:8080/"
        },
        "id": "Lrv4FAGEOcJL",
        "outputId": "b2209df0-4d12-4ee8-e72e-0518ce8add50"
      },
      "source": [
        "userid = 2020_100100\n",
        "delete_user(2020_100100)\n"
      ],
      "execution_count": null,
      "outputs": [
        {
          "output_type": "stream",
          "name": "stdout",
          "text": [
            "Successfully Deleted User: 2020100100\n"
          ]
        }
      ]
    },
    {
      "cell_type": "markdown",
      "metadata": {
        "id": "zjDNdWiBbf8a"
      },
      "source": [
        "The **return statement** at the end of the function helps to return the result of the function. It **terminates the function execution** and transfer the results."
      ]
    },
    {
      "cell_type": "code",
      "metadata": {
        "id": "MA9B6LDaO6k5"
      },
      "source": [
        "def add(addend1, addend2):\n",
        "    sum = addend1 + addend2\n",
        "    return sum"
      ],
      "execution_count": null,
      "outputs": []
    },
    {
      "cell_type": "code",
      "metadata": {
        "colab": {
          "base_uri": "https://localhost:8080/"
        },
        "id": "rPklr4jwPtwu",
        "outputId": "04744400-128e-4042-c60e-9b4523baac41"
      },
      "source": [
        "add(5, 4)"
      ],
      "execution_count": null,
      "outputs": [
        {
          "output_type": "execute_result",
          "data": {
            "text/plain": [
              "9"
            ]
          },
          "metadata": {},
          "execution_count": 126
        }
      ]
    },
    {
      "cell_type": "markdown",
      "metadata": {
        "id": "aGDELDdj22ex"
      },
      "source": [
        "### Insights / Commentaries\n",
        "In this laboratory activity, there are some ways to understand python fundamentals using google collaboratory; it was shown above is programmed the different fundamentals and programming languages used to develop an output on every cell's input. The fundamentals of pythons programming are: Variable and Data Types, Operations, Input and Output, Logic Control, Loop Statements, and Functions. These are discussed and showed on the google collaboratory, on how to properly and right way to program using Python Language."
      ]
    },
    {
      "cell_type": "markdown",
      "metadata": {
        "id": "vil-qGIZrj5a"
      },
      "source": [
        "### IV. Conclusion\n",
        "After I programmed this laboratory activity, I may encounter different errors. Still, I learned many techniques and fundamentals to develop and enhance this knowledge in the following laboratory activities. This laboratory activity opened up another expertise and skill for me in programming; with python as the programming language I am currently learning, I am excited to adapt to this programming language for future learning. And hopefully can improve my skill in programming and add it up to my abilities as I pass this subject."
      ]
    },
    {
      "cell_type": "markdown",
      "metadata": {
        "id": "ReLgIrHC2-y8"
      },
      "source": [
        "# References:"
      ]
    },
    {
      "cell_type": "markdown",
      "metadata": {
        "id": "vUFL5Uj33Bmn"
      },
      "source": [
        "[1] Campbell, S. (2021, September 13). Python Operators: Arithmetic, Logical, Comparison, Assignment, Bitwise & Precedence. Guru99. https://www.guru99.com/python-operators-complete-tutorial.html#4"
      ]
    },
    {
      "cell_type": "markdown",
      "metadata": {
        "id": "rOlJXExV2-ob"
      },
      "source": [
        "[2] Campbell, S. (2021a, September 13). Python Conditional Statements: IF. . .Else, ELIF & Switch Case. Guru99. https://www.guru99.com/if-loop-python-conditional-structures.html"
      ]
    },
    {
      "cell_type": "markdown",
      "metadata": {
        "id": "A75t5gy63L9g"
      },
      "source": [
        "[3] Real Python. (2021, June 7). Basic Input, Output, and String Formatting in Python. https://realpython.com/python-input-output/"
      ]
    },
    {
      "cell_type": "markdown",
      "metadata": {
        "id": "_No8xkDo3OLU"
      },
      "source": [
        "[4] Python Fundamentals – Programming with Python. (n.d.). Software Carpentry - Programming with Python. Retrieved September 15, 2021, from https://swcarpentry.github.io/python-novice-inflammation/01-intro/index.html"
      ]
    },
    {
      "cell_type": "markdown",
      "metadata": {
        "id": "yePGHWP53PZe"
      },
      "source": [
        "[5] GeeksforGeeks. (2021, September 7). Python Operators. https://www.geeksforgeeks.org/python-operators/"
      ]
    },
    {
      "cell_type": "markdown",
      "metadata": {
        "id": "GuAzIbva3S6w"
      },
      "source": [
        "[6] Gallagher, J. (2021, January 4). Python += Operator: A Guide. Career Karma. https://careerkarma.com/blog/python-operator/"
      ]
    },
    {
      "cell_type": "markdown",
      "metadata": {
        "id": "KPE2ixtn3VFQ"
      },
      "source": [
        "[7] Python Loops Tutorial: For & While Loop Examples. (n.d.). DataCamp Community. Retrieved September 15, 2021, from https://www.datacamp.com/community/tutorials/loops-python-tutorial?utm_source=adwords_ppc&utm_campaignid=1455363063&utm_adgroupid=65083631748&utm_device=c&utm_keyword=&utm_matchtype=b&utm_network=g&utm_adpostion=&utm_creative=278443377095&utm_targetid=dsa-429603003980&utm_loc_interest_ms=&utm_loc_physical_ms=20822&gclid=Cj0KCQjws4aKBhDPARIsAIWH0JVakwJqEYwLCPrlFfmzP0Dwk6CZq1B4p39np5Wcy8F2KVgombhjrwAaAkdtEALw_wcB#forloop"
      ]
    },
    {
      "cell_type": "markdown",
      "metadata": {
        "id": "L7RP19Qr3W4k"
      },
      "source": [
        "[8] Python in a Nutshell. (n.d.). O’Reilly Online Learning. Retrieved September 15, 2021, from https://www.oreilly.com/library/view/python-in-a/0596001886/ch04s09.html"
      ]
    }
  ]
}